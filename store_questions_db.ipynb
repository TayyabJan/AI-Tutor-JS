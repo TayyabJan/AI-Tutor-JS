{
 "cells": [
  {
   "cell_type": "code",
   "execution_count": 1,
   "id": "e8a5cc36",
   "metadata": {},
   "outputs": [],
   "source": [
    "import pandas as pd\n",
    "import pickle\n",
    "import sqlite3\n",
    "import json"
   ]
  },
  {
   "cell_type": "code",
   "execution_count": 4,
   "id": "37db3cfb",
   "metadata": {},
   "outputs": [
    {
     "name": "stdout",
     "output_type": "stream",
     "text": [
      "connected successfully\n"
     ]
    }
   ],
   "source": [
    "conn = sqlite3.connect('rewise_latest.db')\n",
    "print('connected successfully')"
   ]
  },
  {
   "cell_type": "code",
   "execution_count": null,
   "id": "75057128",
   "metadata": {},
   "outputs": [],
   "source": [
    "#  ===========================\n",
    "#     FOR SHORT Questions \n",
    "# =========================== "
   ]
  },
  {
   "cell_type": "code",
   "execution_count": 19,
   "id": "71106dea",
   "metadata": {},
   "outputs": [
    {
     "name": "stdout",
     "output_type": "stream",
     "text": [
      "Accounting Fundamentals\n",
      "insert into Question_Bank(answer_type, title, Ans, course_id, topic_id)             values(0, 'What types of information does accounting provide for monitoring progress and decision-making?', 'Accounting provides information on a business's financial position, performance, and cash flow. It also provides information on revenue and expenses, assets and liabilities, and financial ratios that can be used to assess a business's financial health and performance.', 10, (select tid from Topics where tname='Accounting Fundamentals')) failed!\n",
      "insert into Question_Bank(answer_type, title, Ans, course_id, topic_id)             values(0, 'What are some key financial ratios that businesses can use to monitor their financial performance?', 'Some key financial ratios that businesses can use to monitor their financial performance include the current ratio, quick ratio, debt-to-equity ratio, gross profit margin, and net profit margin. These ratios can be used to assess a business's liquidity, solvency, profitability, and efficiency.', 10, (select tid from Topics where tname='Accounting Fundamentals')) failed!\n",
      "insert into Question_Bank(answer_type, title, Ans, course_id, topic_id)             values(0, 'How does accounting help businesses manage risk?', 'Accounting helps businesses manage risk by providing information on a business's financial position, performance, and cash flow. This information can be used to identify areas of risk and make informed decisions that minimize risk and protect the business's financial health.', 10, (select tid from Topics where tname='Accounting Fundamentals')) failed!\n",
      "insert into Question_Bank(answer_type, title, Ans, course_id, topic_id)             values(0, 'What are the main responsibilities of a bookkeeper?', 'A bookkeeper's main responsibility is to record financial transactions in a systematic manner to produce accurate financial statements.', 10, (select tid from Topics where tname='Accounting Fundamentals')) failed!\n",
      "insert into Question_Bank(answer_type, title, Ans, course_id, topic_id)             values(0, 'What are the main responsibilities of an accountant?', 'An accountant's main responsibility is to analyze and interpret the financial statements produced by the bookkeeper to provide insights into the company's financial performance.', 10, (select tid from Topics where tname='Accounting Fundamentals')) failed!\n",
      "insert into Question_Bank(answer_type, title, Ans, course_id, topic_id)             values(0, 'How can measuring profit and loss help a business attract investors?', 'Measuring profit and loss can help a business attract investors by demonstrating the business's profitability and potential for growth.', 10, (select tid from Topics where tname='Accounting Fundamentals')) failed!\n",
      "insert into Question_Bank(answer_type, title, Ans, course_id, topic_id)             values(0, 'What are some potential risks associated with relying solely on profit and loss for financial decision-making?', 'Some potential risks associated with relying solely on profit and loss for financial decision-making include not accounting for long-term investments, ignoring non-financial factors that contribute to a business's success, and underestimating the importance of financial planning.', 10, (select tid from Topics where tname='Accounting Fundamentals')) failed!\n",
      "insert into Question_Bank(answer_type, title, Ans, course_id, topic_id)             values(0, 'What is owner's equity in accounting?', 'Owner's equity represents the residual interest in the assets of a company after deducting its liabilities. It represents the portion of the business that is owned by the shareholders or owners of the company.', 10, (select tid from Topics where tname='Accounting Fundamentals')) failed!\n",
      "insert into Question_Bank(answer_type, title, Ans, course_id, topic_id)             values(0, 'What are the components of owner's equity?', 'Owner's equity consists of contributed capital (such as common stock and additional paid-in capital) and retained earnings (which represent the cumulative earnings of the company that have not been distributed to shareholders in the form of dividends).', 10, (select tid from Topics where tname='Accounting Fundamentals')) failed!\n",
      "insert into Question_Bank(answer_type, title, Ans, course_id, topic_id)             values(0, 'How is owner's equity affected by net income?', 'Net income increases owner's equity, while net losses decrease owner's equity. This is because net income represents the increase in the company's assets that are not due to contributions from shareholders, and therefore belong to the shareholders as part of their ownership in the company.', 10, (select tid from Topics where tname='Accounting Fundamentals')) failed!\n",
      "insert into Question_Bank(answer_type, title, Ans, course_id, topic_id)             values(0, 'What is the accounting equation?', 'The accounting equation is a fundamental concept in accounting that states that assets must equal liabilities plus owner's equity. This equation provides the basis for the double-entry accounting system.', 10, (select tid from Topics where tname='Accounting Fundamentals')) failed!\n",
      "insert into Question_Bank(answer_type, title, Ans, course_id, topic_id)             values(0, 'How does the accounting equation reflect the balance sheet?', 'The balance sheet is a financial statement that reports a company's assets, liabilities, and owner's equity at a specific point in time. The accounting equation reflects the balance sheet by showing that the total assets of the company must equal the total of its liabilities and owner's equity.', 10, (select tid from Topics where tname='Accounting Fundamentals')) failed!\n",
      "insert into Question_Bank(answer_type, title, Ans, course_id, topic_id)             values(0, 'What is the relationship between assets, liabilities, and owner's equity?', 'Assets represent the economic resources that a company owns or controls, while liabilities represent the obligations that it owes to others. Owner's equity represents the residual interest in the assets of the company after deducting its liabilities. The relationship between these three elements is fundamental to the accounting equation and the preparation of financial statements.', 10, (select tid from Topics where tname='Accounting Fundamentals')) failed!\n",
      "insert into Question_Bank(answer_type, title, Ans, course_id, topic_id)             values(0, ' What is the accounting equation and what does it represent?', 'The accounting equation is Assets = Liabilities + Owner's Equity, which represents the fundamental relationship between a company's resources (assets), what it owes (liabilities), and what's left over for the owners (owner's equity).', 10, (select tid from Topics where tname='Accounting Fundamentals')) failed!\n",
      "insert into Question_Bank(answer_type, title, Ans, course_id, topic_id)             values(0, ' How do you apply the accounting equation to determine owner's equity?', 'To determine owner's equity, subtract liabilities from assets: Owner's Equity = Assets - Liabilities.', 10, (select tid from Topics where tname='Accounting Fundamentals')) failed!\n",
      "insert into Question_Bank(answer_type, title, Ans, course_id, topic_id)             values(0, ' What is the effect of a purchase of equipment for cash on the accounting equation?', 'The purchase of equipment for cash would increase assets (equipment) and decrease cash, with no effect on liabilities or owner's equity.', 10, (select tid from Topics where tname='Accounting Fundamentals')) failed!\n",
      "insert into Question_Bank(answer_type, title, Ans, course_id, topic_id)             values(0, ' What is the effect of borrowing money from a bank on the accounting equation?', 'Borrowing money from a bank would increase assets (cash) and increase liabilities (loan payable), with no effect on owner's equity.', 10, (select tid from Topics where tname='Accounting Fundamentals')) failed!\n",
      "insert into Question_Bank(answer_type, title, Ans, course_id, topic_id)             values(0, ' What is the effect of paying off a loan on the accounting equation?', 'Paying off a loan would decrease assets (cash) and decrease liabilities (loan payable), with no effect on owner's equity.', 10, (select tid from Topics where tname='Accounting Fundamentals')) failed!\n",
      "insert into Question_Bank(answer_type, title, Ans, course_id, topic_id)             values(0, ' How do you calculate total assets using the accounting equation?', 'Total assets can be calculated by adding together total liabilities and owner's equity: Assets = Liabilities + Owner's Equity.', 10, (select tid from Topics where tname='Accounting Fundamentals')) failed!\n",
      "insert into Question_Bank(answer_type, title, Ans, course_id, topic_id)             values(0, ' How do you calculate total liabilities using the accounting equation?', 'Total liabilities can be calculated by subtracting owner's equity from total assets: Liabilities = Assets - Owner's Equity.', 10, (select tid from Topics where tname='Accounting Fundamentals')) failed!\n",
      "insert into Question_Bank(answer_type, title, Ans, course_id, topic_id)             values(0, ' What is the effect of issuing shares of stock for cash on the accounting equation?', 'Issuing shares of stock for cash would increase assets (cash) and increase owner's equity (common stock), with no effect on liabilities.', 10, (select tid from Topics where tname='Accounting Fundamentals')) failed!\n",
      "insert into Question_Bank(answer_type, title, Ans, course_id, topic_id)             values(0, ' What is the effect of paying dividends on the accounting equation?', 'Paying dividends would decrease assets (cash) and decrease owner's equity (dividends), with no effect on liabilities.', 10, (select tid from Topics where tname='Accounting Fundamentals')) failed!\n",
      "insert into Question_Bank(answer_type, title, Ans, course_id, topic_id)             values(0, ' How does the accounting equation help ensure accuracy in financial statements?', 'The accounting equation helps ensure accuracy in financial statements by providing a framework for organizing and balancing financial information, allowing for easy identification and correction of errors. It also ensures that the balance sheet always remains in balance, with total assets always equaling total liabilities and owner's equity.', 10, (select tid from Topics where tname='Accounting Fundamentals')) failed!\n",
      "insert into Question_Bank(answer_type, title, Ans, course_id, topic_id)             values(0, 'What is the difference between a balance sheet and a trial balance?', 'A balance sheet is a statement of a company's financial position at a specific point in time, while a trial balance is a listing of all the general ledger accounts and their balances at a specific point in time.', 10, (select tid from Topics where tname='Accounting Fundamentals')) failed!\n",
      "Verification of Acc Records\n",
      "insert into Question_Bank(answer_type, title, Ans, course_id, topic_id)             values(0, 'What are the limitations of a trial balance?', 'The limitations of a trial balance include the fact that it only verifies the mathematical accuracy of the accounts and does not guarantee the accuracy of the account balances themselves. Additionally, it does not detect errors of omission or errors of principle.', 10, (select tid from Topics where tname='Verification of Acc Records')) failed!\n",
      "insert into Question_Bank(answer_type, title, Ans, course_id, topic_id)             values(0, 'Why is a trial balance an important tool for auditors?', 'A trial balance is an important tool for auditors because it provides a snapshot of the company's financial situation at a specific point in time and helps to ensure that financial statements are accurate and complete.', 10, (select tid from Topics where tname='Verification of Acc Records')) failed!\n",
      "insert into Question_Bank(answer_type, title, Ans, course_id, topic_id)             values(0, ' What is the purpose of a journal entry?', 'A journal entry is used to record a financial transaction in a company's books. It shows which accounts are affected, the amounts debited and credited, and any other relevant information about the transaction.', 10, (select tid from Topics where tname='Verification of Acc Records')) failed!\n",
      "insert into Question_Bank(answer_type, title, Ans, course_id, topic_id)             values(0, ' What is the purpose of a trial balance?', 'A trial balance is used to ensure that the total debits equal the total credits in a company's books. It is used to detect errors and ensure the accuracy of financial statements.', 10, (select tid from Topics where tname='Verification of Acc Records')) failed!\n",
      "insert into Question_Bank(answer_type, title, Ans, course_id, topic_id)             values(0, 'What is the purpose of adjusting the profit or loss for an accounting period after the correction of errors?', 'Adjusting the profit or loss ensures that the financial statements present accurate and reliable information about the company's performance for the period.', 10, (select tid from Topics where tname='Verification of Acc Records')) failed!\n",
      "Sources & Recording of Data\n",
      "insert into Question_Bank(answer_type, title, Ans, course_id, topic_id)             values(0, 'What is an invoice and what information does it typically include?', 'An invoice is a document that lists the goods or services provided by a seller to a buyer, along with the price and terms of payment. It typically includes details such as the seller's name and address, the buyer's name and address, a description of the goods or services provided, the quantity of goods or services, the price, and any applicable taxes or discounts.', 10, (select tid from Topics where tname='Sources & Recording of Data')) failed!\n",
      "insert into Question_Bank(answer_type, title, Ans, course_id, topic_id)             values(0, 'What is a debit note and when is it issued?', 'A debit note is a document issued by a seller to a buyer when an invoice has been overcharged or when goods have been returned. It typically includes details such as the seller's name and address, the buyer's name and address, a description of the goods or services provided, the original invoice number, the amount of the overcharge or return, and any applicable taxes or discounts.', 10, (select tid from Topics where tname='Sources & Recording of Data')) failed!\n",
      "insert into Question_Bank(answer_type, title, Ans, course_id, topic_id)             values(0, 'What is a credit note and when is it issued?', 'A credit note is a document issued by a seller to a buyer when an invoice has been undercharged or when goods have been returned. It typically includes details such as the seller's name and address, the buyer's name and address, a description of the goods or services provided, the original invoice number, the amount of the undercharge or return, and any applicable taxes or discounts.', 10, (select tid from Topics where tname='Sources & Recording of Data')) failed!\n",
      "insert into Question_Bank(answer_type, title, Ans, course_id, topic_id)             values(0, 'What is a statement of account and what information does it typically include?', 'A statement of account is a document that shows the balance owed by a buyer to a seller at a particular point in time. It typically includes details such as the buyer's name and address, the seller's name and address, the date of the statement, the opening balance, any transactions during the period, the closing balance, and any applicable taxes or discounts.', 10, (select tid from Topics where tname='Sources & Recording of Data')) failed!\n",
      "insert into Question_Bank(answer_type, title, Ans, course_id, topic_id)             values(0, 'What is a purchase order and how is it used in business?', 'A purchase order is a document issued by a buyer to a seller, requesting the delivery of goods or services at a specified price and on specified terms. It typically includes details such as the buyer's name and address, the seller's name and address, a description of the goods or services required, the quantity required, the price, and any applicable taxes or discounts. Purchase orders are used in business to formalise agreements with suppliers and to ensure that goods or services are provided on the specified terms.', 10, (select tid from Topics where tname='Sources & Recording of Data')) failed!\n",
      "insert into Question_Bank(answer_type, title, Ans, course_id, topic_id)             values(0, 'What is a delivery note and why is it important in business?', 'A delivery note is a document that accompanies goods being delivered by a seller to a buyer. It typically includes details such as the seller's name and address, the buyer's name and address, a description of the goods being delivered, the quantity being delivered, and any special instructions or conditions. Delivery notes are important in business because they provide evidence of delivery and can be used to', 10, (select tid from Topics where tname='Sources & Recording of Data')) failed!\n",
      "insert into Question_Bank(answer_type, title, Ans, course_id, topic_id)             values(0, ' What is a trial balance?', 'A trial balance is a list of all the accounts in the ledger with their debit and credit balances, used to check that the total debits equal the total credits and that the books are in balance.', 10, (select tid from Topics where tname='Sources & Recording of Data')) failed!\n",
      "insert into Question_Bank(answer_type, title, Ans, course_id, topic_id)             values(0, ' What is the purpose of a trial balance?', 'The purpose of a trial balance is to ensure that the total debits in the ledger accounts equal the total credits, and to identify any errors or discrepancies that need to be corrected.', 10, (select tid from Topics where tname='Sources & Recording of Data')) failed!\n",
      "insert into Question_Bank(answer_type, title, Ans, course_id, topic_id)             values(0, 'What is a ledger account?', 'A ledger account is a record that summarizes all transactions related to a specific account in a business's chart of accounts.', 10, (select tid from Topics where tname='Sources & Recording of Data')) failed!\n",
      "insert into Question_Bank(answer_type, title, Ans, course_id, topic_id)             values(0, 'What is the purpose of a trial balance in relation to ledger accounts?', 'A trial balance is used to ensure that the debits and credits in all ledger accounts balance, providing an accurate picture of the company's financial position.', 10, (select tid from Topics where tname='Sources & Recording of Data')) failed!\n",
      "Financial Statements\n",
      "insert into Question_Bank(answer_type, title, Ans, course_id, topic_id)             values(0, 'How can financial statements be used to evaluate a business's performance relative to its competitors?', 'Financial statements can be used to compare a business's performance to that of its competitors, by analyzing factors such as profitability, liquidity, and solvency. This information can be used to identify areas where the business is performing well, as well as areas where it may need to improve in order to remain competitive.', 10, (select tid from Topics where tname='Financial Statements')) failed!\n",
      "insert into Question_Bank(answer_type, title, Ans, course_id, topic_id)             values(0, 'How can the statement of financial position be used for financial analysis?', 'The statement of financial position can be used to calculate financial ratios such as the debt-to-equity ratio, which can help investors and analysts evaluate a company's financial health and performance.', 10, (select tid from Topics where tname='Financial Statements')) failed!\n",
      "insert into Question_Bank(answer_type, title, Ans, course_id, topic_id)             values(0, 'How can the statement of financial position be used to evaluate a business's financial health?', 'The statement of financial position provides information about a business's assets, liabilities, and equity, which can be used to evaluate its liquidity, solvency, and overall financial health. For example, a business with a high level of debt relative to its assets may be considered less financially healthy than a business with lower levels of debt.', 10, (select tid from Topics where tname='Financial Statements')) failed!\n",
      "insert into Question_Bank(answer_type, title, Ans, course_id, topic_id)             values(0, 'How do you calculate the reducing balance depreciation charge?', 'The reducing balance depreciation charge is calculated by multiplying the asset's book value at the beginning of the year by the depreciation rate.', 10, (select tid from Topics where tname='Financial Statements')) failed!\n",
      "insert into Question_Bank(answer_type, title, Ans, course_id, topic_id)             values(0, 'How is a sole trader's income taxed?', 'A sole trader's income is taxed as personal income, which means that it is subject to income tax and National Insurance contributions.', 10, (select tid from Topics where tname='Financial Statements')) failed!\n",
      "insert into Question_Bank(answer_type, title, Ans, course_id, topic_id)             values(0, 'What are some limitations of the statement of financial position?', 'The statement of financial position only provides information about a company's financial position at a specific point in time and does not provide information about its performance over time. Additionally, it may not include intangible assets such as intellectual property, which can be valuable to a company.', 10, (select tid from Topics where tname='Financial Statements')) failed!\n",
      "insert into Question_Bank(answer_type, title, Ans, course_id, topic_id)             values(0, 'What are the disadvantages of being a sole trader?', 'Disadvantages of being a sole trader include unlimited liability, limited access to financing, lack of continuity in the event of the owner's death or incapacity, and the potential for burnout due to the owner's involvement in all aspects of the business.', 10, (select tid from Topics where tname='Financial Statements')) failed!\n",
      "insert into Question_Bank(answer_type, title, Ans, course_id, topic_id)             values(0, 'What are the limitations of the income statement and statement of financial position?', 'The income statement and statement of financial position are historical documents that do not take into account future events or uncertainties. They also rely on estimates and assumptions that may not be accurate, and may not reflect the true value of a business's assets and liabilities. Additionally, financial statements may be subject to manipulation or misrepresentation.', 10, (select tid from Topics where tname='Financial Statements')) failed!\n",
      "insert into Question_Bank(answer_type, title, Ans, course_id, topic_id)             values(0, 'What is a statement of financial position and what information does it convey about a business?', 'A statement of financial position is a financial statement that shows a business's assets, liabilities, and equity at a specific point in time. It conveys the financial health of the business and its ability to meet its financial obligations.', 10, (select tid from Topics where tname='Financial Statements')) failed!\n",
      "insert into Question_Bank(answer_type, title, Ans, course_id, topic_id)             values(0, 'What is a statement of financial position?', 'A statement of financial position is a financial statement that shows a company's assets, liabilities, and equity at a specific point in time.', 10, (select tid from Topics where tname='Financial Statements')) failed!\n",
      "insert into Question_Bank(answer_type, title, Ans, course_id, topic_id)             values(0, 'What is equity in a statement of financial position?', 'Equity represents the residual interest in the assets of a company after deducting liabilities. It is also known as shareholders' equity or owner's equity.', 10, (select tid from Topics where tname='Financial Statements')) failed!\n",
      "insert into Question_Bank(answer_type, title, Ans, course_id, topic_id)             values(0, 'What is the difference between a balance sheet and an income statement?', 'A balance sheet shows the financial position of a company at a specific point in time, while an income statement shows the company's financial performance over a period of time.', 10, (select tid from Topics where tname='Financial Statements')) failed!\n",
      "insert into Question_Bank(answer_type, title, Ans, course_id, topic_id)             values(0, 'What is the difference between current assets and non-current assets?', 'Current assets are assets that are expected to be used up or converted into cash within one year, while non-current assets are expected to last longer than one year.', 10, (select tid from Topics where tname='Financial Statements')) failed!\n",
      "insert into Question_Bank(answer_type, title, Ans, course_id, topic_id)             values(0, 'What is the difference between current liabilities and non-current liabilities?', 'Current liabilities are liabilities that are due within one year, while non-current liabilities are due after one year.', 10, (select tid from Topics where tname='Financial Statements')) failed!\n",
      "insert into Question_Bank(answer_type, title, Ans, course_id, topic_id)             values(0, 'What is the difference between the income statement and statement of cash flows?', 'The income statement shows a business's revenue and expenses over a period of time, while the statement of cash flows shows the inflows and outflows of cash during the same period. The statement of cash flows provides information about a business's liquidity and ability to meet its financial obligations, while the income statement provides information about its profitability.', 10, (select tid from Topics where tname='Financial Statements')) failed!\n",
      "insert into Question_Bank(answer_type, title, Ans, course_id, topic_id)             values(0, 'What is the purpose of a statement of financial position?', 'To provide information about the entity's financial position and the resources available to it.', 10, (select tid from Topics where tname='Financial Statements')) failed!\n",
      "insert into Question_Bank(answer_type, title, Ans, course_id, topic_id)             values(0, 'What is the purpose of presenting a statement of financial position for a business?', 'The purpose of presenting a statement of financial position is to provide stakeholders with an overview of a business's financial position, including its assets, liabilities, and equity, at a specific point in time. It helps them assess the business's financial health, liquidity, and solvency.', 10, (select tid from Topics where tname='Financial Statements')) failed!\n",
      "insert into Question_Bank(answer_type, title, Ans, course_id, topic_id)             values(0, 'What is the purpose of the statement of financial position?', 'The purpose of the statement of financial position is to provide information about a company's financial position, including its assets, liabilities, and equity.', 10, (select tid from Topics where tname='Financial Statements')) failed!\n",
      "insert into Question_Bank(answer_type, title, Ans, course_id, topic_id)             values(0, 'What is the reducing balance method of depreciation?', 'The reducing balance method of depreciation allocates a higher amount of depreciation in the early years of an asset's useful life and a lower amount in the later years.', 10, (select tid from Topics where tname='Financial Statements')) failed!\n",
      "insert into Question_Bank(answer_type, title, Ans, course_id, topic_id)             values(0, 'What is the relationship between the income statement and statement of financial position?', 'The income statement and statement of financial position are related in that the net income or loss calculated on the income statement is included in the statement of financial position as part of the business's equity. Additionally, the revenue and expenses shown on the income statement are used to calculate the changes in the assets and liabilities shown on the statement of financial position.', 10, (select tid from Topics where tname='Financial Statements')) failed!\n",
      "insert into Question_Bank(answer_type, title, Ans, course_id, topic_id)             values(0, 'What is the revaluation method of depreciation?', 'The revaluation method of depreciation involves periodically revaluing the asset and adjusting the depreciation charge accordingly.', 10, (select tid from Topics where tname='Financial Statements')) failed!\n",
      "insert into Question_Bank(answer_type, title, Ans, course_id, topic_id)             values(0, 'What is the straight-line method of depreciation?', 'The straight-line method of depreciation allocates an equal amount of depreciation to each year of an asset's useful life.', 10, (select tid from Topics where tname='Financial Statements')) failed!\n",
      "insert into Question_Bank(answer_type, title, Ans, course_id, topic_id)             values(0, 'What is unlimited liability?', 'Unlimited liability is a legal concept that means the owner of a business is personally responsible for all of the business's debts and obligations. In the case of a sole trader, this means that the owner's personal assets could be at risk in the event of a business failure.', 10, (select tid from Topics where tname='Financial Statements')) failed!\n",
      "Analysis & Interpretation\n",
      "insert into Question_Bank(answer_type, title, Ans, course_id, topic_id)             values(0, 'Why is the profit margin ratio important for investors?', 'The profit margin ratio provides insight into a company's profitability and how efficiently it is using its resources to generate profits. This information is important for investors when making investment decisions.', 10, (select tid from Topics where tname='Analysis & Interpretation')) failed!\n",
      "insert into Question_Bank(answer_type, title, Ans, course_id, topic_id)             values(0, 'Why is the liquid (acid test) ratio considered a stricter measure of liquidity than the current ratio?', 'The liquid (acid test) ratio only considers a company's most liquid assets, whereas the current ratio includes all current assets.', 10, (select tid from Topics where tname='Analysis & Interpretation')) failed!\n",
      "insert into Question_Bank(answer_type, title, Ans, course_id, topic_id)             values(0, 'Why is ROCE an important metric for investors?', 'ROCE can provide insight into a company's ability to generate profits from the capital it has invested in the business, which is important for assessing its long-term sustainability.', 10, (select tid from Topics where tname='Analysis & Interpretation')) failed!\n",
      "insert into Question_Bank(answer_type, title, Ans, course_id, topic_id)             values(0, 'Why is it important to analyze gross margin over time?', 'Analyzing gross margin over time can reveal trends in a company's profitability and can help identify areas where improvements can be made.', 10, (select tid from Topics where tname='Analysis & Interpretation')) failed!\n",
      "insert into Question_Bank(answer_type, title, Ans, course_id, topic_id)             values(0, 'What is the industry average for profit margin?', 'The industry average for profit margin varies by industry and can be influenced by factors such as competition and market conditions. It is important to compare a company's profit margin to the average for its industry to gain meaningful insights.', 10, (select tid from Topics where tname='Analysis & Interpretation')) failed!\n",
      "insert into Question_Bank(answer_type, title, Ans, course_id, topic_id)             values(0, 'What is the formula for calculating the liquid (acid test) ratio?', 'The formula for calculating the liquid (acid test) ratio is: (Current Assets - Inventory) / Current Liabilities.', 10, (select tid from Topics where tname='Analysis & Interpretation')) failed!\n",
      "insert into Question_Bank(answer_type, title, Ans, course_id, topic_id)             values(0, 'What is the difference between the liquid (acid test) ratio and the cash ratio?', 'The cash ratio only considers a company's cash and cash equivalents, whereas the liquid (acid test) ratio also includes other highly liquid assets like marketable securities and accounts receivable.', 10, (select tid from Topics where tname='Analysis & Interpretation')) failed!\n",
      "insert into Question_Bank(answer_type, title, Ans, course_id, topic_id)             values(0, 'What is the current ratio?', 'The current ratio is a financial ratio that measures a company's ability to meet its short-term obligations with its current assets. It is calculated as Current assets/Current liabilities.', 10, (select tid from Topics where tname='Analysis & Interpretation')) failed!\n",
      "insert into Question_Bank(answer_type, title, Ans, course_id, topic_id)             values(0, 'What is ROCE?', 'ROCE is a financial ratio that measures a company's profitability by comparing its earnings before interest and tax (EBIT) to the amount of capital it has invested in the business.', 10, (select tid from Topics where tname='Analysis & Interpretation')) failed!\n",
      "insert into Question_Bank(answer_type, title, Ans, course_id, topic_id)             values(0, 'What is a good profit margin ratio for a company?', 'A good profit margin ratio for a company depends on the industry and the company's specific circumstances. Generally, a higher profit margin ratio is desirable, but it should be considered in conjunction with other factors such as growth potential and return on investment.', 10, (select tid from Topics where tname='Analysis & Interpretation')) failed!\n",
      "insert into Question_Bank(answer_type, title, Ans, course_id, topic_id)             values(0, 'What is a good current ratio for a company?', 'A good current ratio for a company varies by industry and depends on the company's specific circumstances. Generally, a ratio of 2:1 or higher is considered to be a good current ratio, as it indicates that a company has sufficient current assets to meet its short-term obligations.', 10, (select tid from Topics where tname='Analysis & Interpretation')) failed!\n",
      "insert into Question_Bank(answer_type, title, Ans, course_id, topic_id)             values(0, 'What factors can impact a company's ROCE?', 'Changes in earnings, changes in total assets, changes in interest rates, and changes in debt levels can all impact a company's ROCE.', 10, (select tid from Topics where tname='Analysis & Interpretation')) failed!\n",
      "insert into Question_Bank(answer_type, title, Ans, course_id, topic_id)             values(0, 'What does the liquid (acid test) ratio measure?', 'It measures a company's ability to pay off its short-term obligations using only its most liquid assets.', 10, (select tid from Topics where tname='Analysis & Interpretation')) failed!\n",
      "insert into Question_Bank(answer_type, title, Ans, course_id, topic_id)             values(0, 'What does the liquid (acid test) ratio measure?', 'The liquid (acid test) ratio measures a company's ability to pay off its current liabilities using only its most liquid assets, such as cash and accounts receivable.', 10, (select tid from Topics where tname='Analysis & Interpretation')) failed!\n",
      "insert into Question_Bank(answer_type, title, Ans, course_id, topic_id)             values(0, 'What does a high gross margin indicate about a company's pricing strategy?', 'A high gross margin may indicate that a company is able to charge a premium price for its products or services.', 10, (select tid from Topics where tname='Analysis & Interpretation')) failed!\n",
      "insert into Question_Bank(answer_type, title, Ans, course_id, topic_id)             values(0, 'What are some potential drawbacks to relying solely on the liquid (acid test) ratio as a measure of a company's financial health?', 'Some potential drawbacks of relying solely on the liquid (acid test) ratio include the fact that it only considers short-term liquidity, and it does not take into account a company's profitability or long-term solvency.', 10, (select tid from Topics where tname='Analysis & Interpretation')) failed!\n",
      "insert into Question_Bank(answer_type, title, Ans, course_id, topic_id)             values(0, 'What are some limitations of the profit margin ratio?', 'The profit margin ratio only provides a snapshot of a company's profitability at a specific point in time and does not consider the company's financial history or future potential. Additionally, differences in accounting practices between companies can make it difficult to compare profit margin ratios across different companies.', 10, (select tid from Topics where tname='Analysis & Interpretation')) failed!\n",
      "insert into Question_Bank(answer_type, title, Ans, course_id, topic_id)             values(0, 'What are some limitations of the current ratio?', 'The current ratio only provides a snapshot of a company's liquidity position at a specific point in time and does not consider the company's financial history or future potential. Additionally, differences in accounting practices between companies can make it difficult to compare current ratios across different companies.', 10, (select tid from Topics where tname='Analysis & Interpretation')) failed!\n",
      "insert into Question_Bank(answer_type, title, Ans, course_id, topic_id)             values(0, 'What are some factors that can impact gross margin?', 'Changes in the cost of goods sold, changes in sales volume, pricing strategy, and competition can all impact a company's gross margin.', 10, (select tid from Topics where tname='Analysis & Interpretation')) failed!\n",
      "insert into Question_Bank(answer_type, title, Ans, course_id, topic_id)             values(0, 'How is ROCE different from Return on Investment (ROI)?', 'ROI measures the overall return on investment, while ROCE measures the profitability of a company's core operations.', 10, (select tid from Topics where tname='Analysis & Interpretation')) failed!\n",
      "insert into Question_Bank(answer_type, title, Ans, course_id, topic_id)             values(0, 'How does the trade receivables turnover (days) ratio affect a company's cash flow?', 'The trade receivables turnover (days) ratio affects a company's cash flow by influencing the speed at which it collects its trade receivables, thereby affecting the availability of cash for day-to-day operations and investment.', 10, (select tid from Topics where tname='Analysis & Interpretation')) failed!\n",
      "insert into Question_Bank(answer_type, title, Ans, course_id, topic_id)             values(0, 'How does the liquid (acid test) ratio relate to the concept of working capital?', 'The liquid (acid test) ratio is one measure of a company's ability to meet its short-term obligations, which is a key component of working capital management.', 10, (select tid from Topics where tname='Analysis & Interpretation')) failed!\n",
      "insert into Question_Bank(answer_type, title, Ans, course_id, topic_id)             values(0, 'How does the current ratio relate to the quick ratio?', 'The quick ratio is a more conservative measure of a company's ability to meet its short-term obligations, as it only considers the most liquid current assets (cash, marketable securities, and accounts receivable) and excludes inventory. The quick ratio is calculated as (Current assets - Inventory)/Current liabilities. Therefore, the quick ratio is always lower than the current ratio.', 10, (select tid from Topics where tname='Analysis & Interpretation')) failed!\n",
      "insert into Question_Bank(answer_type, title, Ans, course_id, topic_id)             values(0, 'How can the liquid (acid test) ratio be used in conjunction with the current ratio?', 'The two ratios can be compared to give a more complete picture of a company's liquidity. A high current ratio but a low liquid (acid test) ratio could indicate that a company has too much inventory.', 10, (select tid from Topics where tname='Analysis & Interpretation')) failed!\n",
      "insert into Question_Bank(answer_type, title, Ans, course_id, topic_id)             values(0, 'How can investors use the current ratio?', 'Investors can use the current ratio to evaluate a company's liquidity position and its ability to meet its short-term obligations. A high current ratio indicates that a company is in a better position to handle short-term financial challenges.', 10, (select tid from Topics where tname='Analysis & Interpretation')) failed!\n",
      "insert into Question_Bank(answer_type, title, Ans, course_id, topic_id)             values(0, 'How can creditors use the current ratio?', 'Creditors can use the current ratio to assess a company's ability to pay off its short-term debt obligations. A low current ratio may suggest that a company may have difficulty meeting its short-term obligations, which can increase the risk of default.', 10, (select tid from Topics where tname='Analysis & Interpretation')) failed!\n",
      "insert into Question_Bank(answer_type, title, Ans, course_id, topic_id)             values(0, 'How can a low gross margin affect a company's profitability?', 'A low gross margin means that a company's profit margins are slim, leaving less money to cover operating expenses and generate profits.', 10, (select tid from Topics where tname='Analysis & Interpretation')) failed!\n",
      "insert into Question_Bank(answer_type, title, Ans, course_id, topic_id)             values(0, 'How can a company's trade payables turnover (days) be compared to its competitors'?', 'It can be compared to industry benchmarks or the turnover rates of other companies in the same market to see how well a company is performing relative to its peers.', 10, (select tid from Topics where tname='Analysis & Interpretation')) failed!\n",
      "insert into Question_Bank(answer_type, title, Ans, course_id, topic_id)             values(0, 'How can a company's rate of inventory turnover be compared to its competitors'?', 'It can be compared to industry benchmarks or the rates of other companies in the same market to see how well a company is performing relative to its peers.', 10, (select tid from Topics where tname='Analysis & Interpretation')) failed!\n",
      "insert into Question_Bank(answer_type, title, Ans, course_id, topic_id)             values(0, 'How can a company use the trade receivables turnover (days) ratio in conjunction with other ratios?', 'A company can use the trade receivables turnover (days) ratio in conjunction with the debtors' turnover ratio and the average collection period ratio to gain a more comprehensive understanding of its credit management.', 10, (select tid from Topics where tname='Analysis & Interpretation')) failed!\n",
      "insert into Question_Bank(answer_type, title, Ans, course_id, topic_id)             values(0, 'How can a company improve its liquid (acid test) ratio?', 'A company can improve its liquid (acid test) ratio by increasing its cash reserves, improving its collection of accounts receivable, and reducing its inventory levels.', 10, (select tid from Topics where tname='Analysis & Interpretation')) failed!\n",
      "insert into Question_Bank(answer_type, title, Ans, course_id, topic_id)             values(0, 'How can a change in the current ratio over time be interpreted?', 'A change in the current ratio over time can indicate a change in a company's liquidity position. An increase in the current ratio may suggest that a company has become more liquid, while a decrease in the current ratio may suggest that a company is facing short-term liquidity challenges.', 10, (select tid from Topics where tname='Analysis & Interpretation')) failed!\n",
      "Accounting Procedures\n",
      "insert into Question_Bank(answer_type, title, Ans, course_id, topic_id)             values(0, 'How are capital receipts and revenue receipts recorded in the financial statements?', 'Capital receipts are recorded in the balance sheet, as they represent changes in the entity's financial position over a long-term period. Revenue receipts are recorded in the income statement, as they represent the entity's revenue earned during a particular period.', 10, (select tid from Topics where tname='Accounting Procedures')) failed!\n",
      "insert into Question_Bank(answer_type, title, Ans, course_id, topic_id)             values(0, 'How do capital receipts and revenue receipts affect the entity's financial position?', 'Capital receipts affect the entity's financial position over the long-term, as they are used to finance investments in non-current assets or repay long-term liabilities. Revenue receipts affect the entity's financial position over the short-term, as they are used to finance day-to-day operations and are typically reinvested in the business.', 10, (select tid from Topics where tname='Accounting Procedures')) failed!\n",
      "insert into Question_Bank(answer_type, title, Ans, course_id, topic_id)             values(0, 'How are capital receipts and revenue receipts taxed differently?', 'Capital receipts are generally taxed at a lower rate than revenue receipts, as they represent gains on non-current assets and are subject to capital gains tax. Revenue receipts are subject to income tax at the entity's normal tax rate.', 10, (select tid from Topics where tname='Accounting Procedures')) failed!\n",
      "insert into Question_Bank(answer_type, title, Ans, course_id, topic_id)             values(0, 'How do capital receipts and revenue receipts impact the entity's cash flow?', 'Capital receipts generally increase the entity's cash flow, as they represent inflows of cash from the sale of assets or issuance of securities. Revenue receipts also increase the entity's cash flow, but are typically reinvested in the business to finance day-to-day operations.', 10, (select tid from Topics where tname='Accounting Procedures')) failed!\n",
      "insert into Question_Bank(answer_type, title, Ans, course_id, topic_id)             values(0, 'How are capital receipts and revenue receipts classified in the statement of cash flows?', 'Capital receipts are classified as cash inflows from investing activities, as they represent changes in the entity's long-term investments. Revenue receipts are classified as cash inflows from operating activities, as they represent the entity's primary source of cash inflows from day-to-day operations.', 10, (select tid from Topics where tname='Accounting Procedures')) failed!\n",
      "insert into Question_Bank(answer_type, title, Ans, course_id, topic_id)             values(0, 'How do capital receipts and revenue receipts impact the entity's liquidity?', 'Capital receipts may improve the entity's liquidity in the short-term, as they provide cash inflows that can be used to pay off liabilities or invest in other assets. Revenue receipts, however, may decrease the entity's liquidity in the short-term, as they are typically reinvested in the business to finance day-to-day operations.', 10, (select tid from Topics where tname='Accounting Procedures')) failed!\n",
      "insert into Question_Bank(answer_type, title, Ans, course_id, topic_id)             values(0, 'How do capital receipts and revenue receipts impact the entity's profitability?', 'Capital receipts do not directly impact the entity's profitability, as they are used to finance long-term investments. Revenue receipts, however, are the primary driver of the entity's profitability, as they represent the revenue earned from the sale of goods or services.', 10, (select tid from Topics where tname='Accounting Procedures')) failed!\n",
      "insert into Question_Bank(answer_type, title, Ans, course_id, topic_id)             values(0, 'What is the impact of incorrect treatment of assets on financial statements?', 'Incorrect treatment of assets can lead to misstatement of financial statements, which can have serious consequences for the entity's stakeholders.', 10, (select tid from Topics where tname='Accounting Procedures')) failed!\n",
      "insert into Question_Bank(answer_type, title, Ans, course_id, topic_id)             values(0, 'How can incorrect treatment of assets affect the valuation of an entity's assets?', 'Incorrect treatment of assets can lead to overstatement or understatement of asset valuations. Overstatement of asset valuations can lead to an inflated view of the entity's financial health, while understatement of asset valuations can lead to a distorted view of the entity's financial position.', 10, (select tid from Topics where tname='Accounting Procedures')) failed!\n",
      "insert into Question_Bank(answer_type, title, Ans, course_id, topic_id)             values(0, 'What are some potential consequences of incorrect treatment of assets?', 'Potential consequences of incorrect treatment of assets include: misstatement of financial statements, violation of accounting standards or regulations, loss of credibility with stakeholders, legal or regulatory penalties, and negative impact on the entity's financial position, profitability, and liquidity.', 10, (select tid from Topics where tname='Accounting Procedures')) failed!\n",
      "insert into Question_Bank(answer_type, title, Ans, course_id, topic_id)             values(0, 'How does the method of depreciation affect the amount of depreciation expense recorded?', 'The method of depreciation used affects the amount of depreciation expense recorded each period. Straight-line depreciation method results in equal amounts of depreciation expense each period, while accelerated depreciation methods result in higher depreciation expense in the early years of an asset's life.', 10, (select tid from Topics where tname='Accounting Procedures')) failed!\n",
      "insert into Question_Bank(answer_type, title, Ans, course_id, topic_id)             values(0, 'What is the impact of using different methods of depreciation on the amount of depreciation expense recorded in a ledger account?', 'The method of depreciation used affects the amount of depreciation expense recorded in a ledger account. Straight-line depreciation method results in equal amounts of depreciation expense each period, while accelerated depreciation methods result in higher depreciation expense in the early years of an asset's life.', 10, (select tid from Topics where tname='Accounting Procedures')) failed!\n",
      "insert into Question_Bank(answer_type, title, Ans, course_id, topic_id)             values(0, ' How do capital expenditures impact the company's financial statements?', 'Capital expenditures increase the company's assets and may result in higher depreciation expense and lower net income in the short term. However, they also provide long-term benefits to the company.', 10, (select tid from Topics where tname='Accounting Procedures')) failed!\n",
      "insert into Question_Bank(answer_type, title, Ans, course_id, topic_id)             values(0, ' How do revenue expenditures impact the company's financial statements?', 'Revenue expenditures decrease the company's net income for the current accounting period, but they do not provide long-term benefits to the company.', 10, (select tid from Topics where tname='Accounting Procedures')) failed!\n",
      "insert into Question_Bank(answer_type, title, Ans, course_id, topic_id)             values(0, ' How are capital expenditures approved within a company?', 'Capital expenditures are typically approved through a capital budgeting process, which involves analyzing the potential benefits and costs of the investment and determining whether it aligns with the company's strategic goals.', 10, (select tid from Topics where tname='Accounting Procedures')) failed!\n",
      "insert into Question_Bank(answer_type, title, Ans, course_id, topic_id)             values(0, ' What is the effect on profit if an expense is incorrectly recorded as an asset?', 'If an expense is incorrectly recorded as an asset, it will overstate the company's assets and understate its expenses, leading to higher net income in the short term.', 10, (select tid from Topics where tname='Accounting Procedures')) failed!\n",
      "insert into Question_Bank(answer_type, title, Ans, course_id, topic_id)             values(0, ' What is the effect on profit if a revenue is incorrectly recorded as an asset?', 'If a revenue is incorrectly recorded as an asset, it will overstate the company's assets and understate its revenues, leading to lower net income in the short term.', 10, (select tid from Topics where tname='Accounting Procedures')) failed!\n",
      "insert into Question_Bank(answer_type, title, Ans, course_id, topic_id)             values(0, ' What is the effect on profit if an expense is incorrectly recorded as a liability?', 'If an expense is incorrectly recorded as a liability, it will understate the company's expenses and overstate its liabilities, leading to higher net income in the short term.', 10, (select tid from Topics where tname='Accounting Procedures')) failed!\n",
      "insert into Question_Bank(answer_type, title, Ans, course_id, topic_id)             values(0, ' What is the effect on profit if a revenue is incorrectly recorded as a liability?', 'If a revenue is incorrectly recorded as a liability, it will understate the company's revenues and overstate its liabilities, leading to lower net income in the short term.', 10, (select tid from Topics where tname='Accounting Procedures')) failed!\n",
      "insert into Question_Bank(answer_type, title, Ans, course_id, topic_id)             values(0, ' What is the effect on profit if an expense is incorrectly recorded in the wrong accounting period?', 'If an expense is incorrectly recorded in the wrong accounting period, it will misstate the company's expenses for that period, leading to inaccurate net income for that period.', 10, (select tid from Topics where tname='Accounting Procedures')) failed!\n",
      "insert into Question_Bank(answer_type, title, Ans, course_id, topic_id)             values(0, ' What is the effect on profit if a revenue is incorrectly recorded in the wrong accounting period?', 'If a revenue is incorrectly recorded in the wrong accounting period, it will misstate the company's revenues for that period, leading to inaccurate net income for that period.', 10, (select tid from Topics where tname='Accounting Procedures')) failed!\n",
      "insert into Question_Bank(answer_type, title, Ans, course_id, topic_id)             values(0, ' What is the effect on profit if a depreciation expense is incorrectly calculated?', 'If a depreciation expense is incorrectly calculated, it will misstate the company's expenses and assets, leading to inaccurate net income for that period.', 10, (select tid from Topics where tname='Accounting Procedures')) failed!\n",
      "insert into Question_Bank(answer_type, title, Ans, course_id, topic_id)             values(0, ' What is the effect on profit if inventory is incorrectly valued?', 'If inventory is incorrectly valued, it will misstate the company's cost of goods sold and inventory balance, leading to inaccurate net income for that period.', 10, (select tid from Topics where tname='Accounting Procedures')) failed!\n",
      "insert into Question_Bank(answer_type, title, Ans, course_id, topic_id)             values(0, ' What is the effect on profit if an asset is incorrectly impaired?', 'If an asset is incorrectly impaired, it will misstate the company's assets and expenses, leading to inaccurate net income for that period.', 10, (select tid from Topics where tname='Accounting Procedures')) failed!\n",
      "insert into Question_Bank(answer_type, title, Ans, course_id, topic_id)             values(0, ' What is the effect on profit if interest expense is incorrectly calculated?', 'If interest expense is incorrectly calculated, it will misstate the company's expenses and liabilities, leading to inaccurate net income for that period.', 10, (select tid from Topics where tname='Accounting Procedures')) failed!\n",
      "insert into Question_Bank(answer_type, title, Ans, course_id, topic_id)             values(0, ' What is the effect of recording accruals on the company's profit?', 'Recording accruals will increase expenses and reduce net income in the period in which they are recognized, as they reflect costs that have been incurred but not yet paid for.', 10, (select tid from Topics where tname='Accounting Procedures')) failed!\n",
      "insert into Question_Bank(answer_type, title, Ans, course_id, topic_id)             values(0, ' What is the effect of recording prepayments on the company's profit?', 'Recording prepayments will decrease expenses and increase net income in the period in which they are recognized, as they reflect costs that have been paid in advance and will be recognized as expenses in future periods.', 10, (select tid from Topics where tname='Accounting Procedures')) failed!\n",
      "insert into Question_Bank(answer_type, title, Ans, course_id, topic_id)             values(0, ' How can an incorrect treatment of accruals affect the company's financial statements?', 'Incorrect treatment of accruals can misstate the company's expenses and liabilities, leading to inaccurate net income and balance sheet values for the period.', 10, (select tid from Topics where tname='Accounting Procedures')) failed!\n",
      "insert into Question_Bank(answer_type, title, Ans, course_id, topic_id)             values(0, ' How can an incorrect treatment of prepayments affect the company's financial statements?', 'Incorrect treatment of prepayments can misstate the company's assets and liabilities, leading to inaccurate net income and balance sheet values for the period.', 10, (select tid from Topics where tname='Accounting Procedures')) failed!\n",
      "insert into Question_Bank(answer_type, title, Ans, course_id, topic_id)             values(0, ' How can an incorrect allocation of expenses affect the company's financial statements?', 'Incorrect allocation of expenses can misstate the company's expenses and net income for the period, as expenses may be allocated to incorrect accounts or periods.', 10, (select tid from Topics where tname='Accounting Procedures')) failed!\n",
      "insert into Question_Bank(answer_type, title, Ans, course_id, topic_id)             values(0, ' How can an incorrect recognition of revenue affect the company's financial statements?', 'Incorrect recognition of revenue can misstate the company's revenues and net income for the period, as revenue may be recognized in incorrect periods or in amounts that are not reflective of the goods or services delivered.', 10, (select tid from Topics where tname='Accounting Procedures')) failed!\n",
      "insert into Question_Bank(answer_type, title, Ans, course_id, topic_id)             values(0, ' What are the different methods of calculating depreciation?', 'There are several methods of calculating depreciation, including straight-line depreciation, declining balance depreciation, and units of production depreciation. Each method has its own advantages and disadvantages depending on the type of asset being depreciated and the company's accounting policies.', 10, (select tid from Topics where tname='Accounting Procedures')) failed!\n",
      "insert into Question_Bank(answer_type, title, Ans, course_id, topic_id)             values(0, ' How does accounting for depreciation help to maintain the accuracy of financial statements?', 'Accounting for depreciation helps to maintain the accuracy of financial statements by ensuring that the value of fixed assets is accurately reflected on the balance sheet and that the expenses associated with using those assets are properly recognized on the income statement. This helps to provide users of financial statements with a true and fair view of the company's financial position and performance.', 10, (select tid from Topics where tname='Accounting Procedures')) failed!\n",
      "insert into Question_Bank(answer_type, title, Ans, course_id, topic_id)             values(0, 'What is the straight-line method of depreciation?', 'The straight-line method of depreciation allocates an equal amount of depreciation expense to each year of an asset's useful life.', 10, (select tid from Topics where tname='Accounting Procedures')) failed!\n",
      "insert into Question_Bank(answer_type, title, Ans, course_id, topic_id)             values(0, 'How is the reducing balance method of depreciation calculated?', 'The reducing balance method of depreciation calculates depreciation based on a fixed percentage of the asset's book value at the beginning of each period.', 10, (select tid from Topics where tname='Accounting Procedures')) failed!\n",
      "insert into Question_Bank(answer_type, title, Ans, course_id, topic_id)             values(0, 'What is the revaluation method of depreciation?', 'The revaluation method of depreciation involves periodically adjusting an asset's carrying value to its current market value. Depreciation is then calculated based on the revalued amount.', 10, (select tid from Topics where tname='Accounting Procedures')) failed!\n",
      "insert into Question_Bank(answer_type, title, Ans, course_id, topic_id)             values(0, 'Which depreciation method results in higher depreciation expenses in the early years of an asset's life?', 'The reducing balance method of depreciation results in higher depreciation expenses in the early years of an asset's life, compared to the straight-line method.', 10, (select tid from Topics where tname='Accounting Procedures')) failed!\n",
      "insert into Question_Bank(answer_type, title, Ans, course_id, topic_id)             values(0, 'What is the disadvantage of using the reducing balance method of depreciation?', 'The disadvantage of using the reducing balance method is that it can result in large depreciation expenses in the early years of an asset's life, which can negatively impact cash flow.', 10, (select tid from Topics where tname='Accounting Procedures')) failed!\n",
      "insert into Question_Bank(answer_type, title, Ans, course_id, topic_id)             values(0, 'In what circumstances might a company use the revaluation method of depreciation?', 'A company might use the revaluation method if it believes that an asset's current market value is significantly different from its carrying value on the balance sheet, or if there have been major changes in the asset's market value since it was originally acquired.', 10, (select tid from Topics where tname='Accounting Procedures')) failed!\n",
      "insert into Question_Bank(answer_type, title, Ans, course_id, topic_id)             values(0, 'Which depreciation method is most commonly used for tax purposes in some countries?', 'The reducing balance method is often used for tax purposes in some countries, because it results in higher depreciation expenses in the early years of an asset's life, which can reduce taxable income.', 10, (select tid from Topics where tname='Accounting Procedures')) failed!\n",
      "insert into Question_Bank(answer_type, title, Ans, course_id, topic_id)             values(0, 'What is the relationship between an asset's useful life and the depreciation method used?', 'The choice of depreciation method is based on the expected pattern of an asset's use over its useful life. The straight-line method is typically used for assets with a long and predictable useful life, while the reducing balance method is often used for assets that are expected to become obsolete quickly.', 10, (select tid from Topics where tname='Accounting Procedures')) failed!\n",
      "Accounting Principles-Policies\n",
      "insert into Question_Bank(answer_type, title, Ans, course_id, topic_id)             values(0, ' What is the concept of materiality in accounting?', 'Materiality in accounting refers to the significance or importance of an item or transaction to a company's financial statements.', 10, (select tid from Topics where tname='Accounting Principles-Policies')) failed!\n",
      "insert into Question_Bank(answer_type, title, Ans, course_id, topic_id)             values(0, ' What is the concept of money measurement in accounting?', 'Money measurement refers to the principle that only items that can be expressed in monetary terms should be included in a company's financial statements.', 10, (select tid from Topics where tname='Accounting Principles-Policies')) failed!\n",
      "insert into Question_Bank(answer_type, title, Ans, course_id, topic_id)             values(0, ' What is the principle of duality in accounting?', 'The principle of duality states that every transaction has two equal and opposite effects on the accounting equation.', 10, (select tid from Topics where tname='Accounting Principles-Policies')) failed!\n",
      "insert into Question_Bank(answer_type, title, Ans, course_id, topic_id)             values(0, ' How can materiality impact a company's financial statements?', 'Materiality can impact a company's financial statements by affecting the amounts reported for assets, liabilities, revenues, expenses, and net income.', 10, (select tid from Topics where tname='Accounting Principles-Policies')) failed!\n",
      "insert into Question_Bank(answer_type, title, Ans, course_id, topic_id)             values(0, 'How does a business entity differ from its owners?', 'A business entity is a separate legal entity from its owners. As such, it can own assets, incur liabilities, and conduct business in its own name. Its owners are not personally liable for the entity's debts, unless they have given personal guarantees.', 10, (select tid from Topics where tname='Accounting Principles-Policies')) failed!\n",
      "insert into Question_Bank(answer_type, title, Ans, course_id, topic_id)             values(0, 'How does the concept of going concern affect audit procedures?', 'The concept of going concern affects audit procedures in that auditors are required to evaluate the ability of the business to continue operating as a going concern. This may involve analyzing the financial statements, reviewing management's plans to address any issues, and obtaining additional information as necessary. If there are indications that the business may not continue as a going concern, the auditors may need to provide a disclosure in the audit report.', 10, (select tid from Topics where tname='Accounting Principles-Policies')) failed!\n",
      "insert into Question_Bank(answer_type, title, Ans, course_id, topic_id)             values(0, 'What are the main types of partnerships?', 'The main types of partnerships are general partnerships, limited partnerships, and limited liability partnerships. In a general partnership, all partners have unlimited liability for the entity's debts. In a limited partnership, some partners have limited liability. In a limited liability partnership, all partners have limited liability.', 10, (select tid from Topics where tname='Accounting Principles-Policies')) failed!\n",
      "insert into Question_Bank(answer_type, title, Ans, course_id, topic_id)             values(0, 'What is the difference between a sole proprietorship and a corporation?', 'A sole proprietorship is a business entity owned and operated by one individual, who is personally liable for the entity's debts. A corporation is a separate legal entity from its owners, with limited liability for its owners and the ability to raise capital through the sale of stock.', 10, (select tid from Topics where tname='Accounting Principles-Policies')) failed!\n"
     ]
    }
   ],
   "source": [
    "# For Short Questions\n",
    "courseid = 10\n",
    "# topics_array =[\"States of matter\",\"Atoms, elements and compounds\",\"Stoichiometry\",\"Electrochemistry\",\"Chemical energetics\",\"Chemical reactions\",\"Acids, bases and salts\",\"The Periodic Table\",\"Metals\"]\n",
    "# topics_array =[\"Mensuration\",\"Trigonometry\",\"Vectors and transformations\",\"Probability\",\"Statistics\"]\n",
    "# topics_array =[\"Data representation\",\"Data Transmission\",\"Hardware\",\"Software\",\"The internet and its uses\",\"Automated & emerging tech\",\"Algorithms, Progr.. & logic\",\"Programming\",\"Databases\",\"Boolean logic\"]\n",
    "# topics_array =[\"Motion, forces and energy\",\"Thermal physics\",\"Waves\",\"Electricity and magnetism\",\"Nuclear physics\",\"Space physics\"]\n",
    "topics_array =[\"Accounting Fundamentals\",\"Verification of Acc Records\",\"Sources & Recording of Data\",\"Financial Statements\",\"Analysis & Interpretation\",\"Accounting Procedures\",\"Accounting Principles-Policies\"]\n",
    "# print(courseid)\n",
    "for sheet_name1 in topics_array:\n",
    "    print(sheet_name1)\n",
    "    shortq = pd.read_excel(r\"D:\\Tayyab Jan Data\\Courses\\Accounting\\AccountingShortQuestionsLatest.xlsx\", sheet_name=sheet_name1, engine='openpyxl')\n",
    "    # qs = mcqs.reset_index().to_json(orient='records')\n",
    "    # mcqs = json.loads(qs)\n",
    "    data = shortq.dropna()\n",
    "    data = data[data['Question']!='Question']\n",
    "    quest = []\n",
    "    for q in data['Question']:\n",
    "        pos = q.find(\".\")\n",
    "        if(pos <=3 ):\n",
    "            quest.append(q[pos+1:])\n",
    "        else:\n",
    "            quest.append(q)\n",
    "    data['Question'] = quest\n",
    "    qs = data.reset_index().to_json(orient='records')\n",
    "    qs = json.loads(qs)\n",
    "    # qs\n",
    "   \n",
    "    # # topicid = 5\n",
    "    answer_type = 0 # 0 for short questions\n",
    "    # =========================\n",
    "    for d in qs:\n",
    "        try:\n",
    "            Ans = str(d['Answer'])\n",
    "            # if(len(Ans)>1):\n",
    "            #     Ans = Ans[2:]\n",
    "            sql = f\"insert into Question_Bank(answer_type, title, Ans, course_id, topic_id) \\\n",
    "            values({answer_type}, '{d['Question']}', '{Ans}', {courseid}, (select tid from Topics where tname='{sheet_name1}'))\"\n",
    "            conn.execute(sql)\n",
    "        except:\n",
    "            print(f\"{sql} failed!\")"
   ]
  },
  {
   "cell_type": "code",
   "execution_count": 20,
   "id": "20cc9a52",
   "metadata": {},
   "outputs": [],
   "source": [
    "conn.commit()"
   ]
  },
  {
   "cell_type": "code",
   "execution_count": 118,
   "id": "50fd1c60",
   "metadata": {},
   "outputs": [],
   "source": [
    "# sql = f'delete from Question_Bank where id>=2981'\n",
    "# conn.execute(sql)            \n",
    "# conn.commit()"
   ]
  },
  {
   "cell_type": "code",
   "execution_count": 6,
   "id": "4823b909",
   "metadata": {},
   "outputs": [],
   "source": [
    "# sql = f'delete from Courses'\n",
    "# conn.execute(sql)            \n",
    "# # conn.commit()"
   ]
  },
  {
   "cell_type": "code",
   "execution_count": null,
   "id": "90785c34",
   "metadata": {},
   "outputs": [],
   "source": [
    "# ==============================\n",
    "#  FOR MCQS \n",
    "# ============================="
   ]
  },
  {
   "cell_type": "code",
   "execution_count": 122,
   "id": "de7eeb73",
   "metadata": {},
   "outputs": [],
   "source": [
    "# # For MCQs\n",
    "# mcqs = pd.read_excel(\"Mathematics Extended Topics,last MCQs.xlsx\", sheet_name=\"Vectors and transformations\", engine='openpyxl')\n",
    "# # qs = mcqs.reset_index().to_json(orient='records')\n",
    "# # mcqs = json.loads(qs)\n",
    "# data = mcqs.dropna()\n",
    "# data = data[data['Question']!='Question']"
   ]
  },
  {
   "cell_type": "code",
   "execution_count": 123,
   "id": "f0485191",
   "metadata": {},
   "outputs": [],
   "source": [
    "# quest = []\n",
    "# for q in data['Question']:\n",
    "#     pos = q.find(\".\")\n",
    "#     if(pos <=3 ):\n",
    "#         quest.append(q[pos+1:])\n",
    "#     else:\n",
    "#         quest.append(q)\n",
    "# data['Question'] = quest"
   ]
  },
  {
   "cell_type": "code",
   "execution_count": null,
   "id": "d56df66a",
   "metadata": {},
   "outputs": [],
   "source": [
    "# data"
   ]
  },
  {
   "cell_type": "code",
   "execution_count": null,
   "id": "29bca636",
   "metadata": {},
   "outputs": [],
   "source": [
    "# qs = data.reset_index().to_json(orient='records')\n",
    "# qs = json.loads(qs)\n",
    "# qs"
   ]
  },
  {
   "cell_type": "code",
   "execution_count": null,
   "id": "f1f6124a",
   "metadata": {},
   "outputs": [],
   "source": [
    "# courseid = 2\n",
    "# topicid = 5\n",
    "# answer_type = 1\n",
    "# # =========================\n",
    "# for d in qs:\n",
    "#     try:\n",
    "#         optA = str(d['Option A'])\n",
    "#         if(len(optA)>1):\n",
    "#             if(optA[1] == '.' or optA[1] == ')'):\n",
    "#                 optA = optA[2:]\n",
    "\n",
    "#         optB = str(d['Option B'])\n",
    "#         if(len(optB)>1):\n",
    "#             if(optB[1] == '.' or optB[1] == ')'):\n",
    "#                 optB = optB[2:]\n",
    "\n",
    "#         optC = str(d['Option C'])\n",
    "#         if(len(optC)>1):\n",
    "#             if(optC[1] == '.' or optC[1] == ')'):\n",
    "#                 optC = optC[2:]\n",
    "\n",
    "#         optD = str(d['Option D'])\n",
    "#         if(len(optD)>1):\n",
    "#             if(optD[1] == '.' or optD[1] == ')'):\n",
    "#                 optD = optD[2:]\n",
    "\n",
    "#         Ans = str(d['Correct Option'])\n",
    "#         if(len(Ans)>1):\n",
    "#             Ans = Ans[2:]\n",
    "\n",
    "#         sql = f\"insert into Question_Bank(answer_type, title, optA, optB, optC, optD, Ans, course_id, topic_id) \\\n",
    "#         values({answer_type}, '{d['Question']}','{optA}', '{optB}','{optC}', '{optD}', '{Ans}', {courseid}, {topicid})\"\n",
    "#         conn.execute(sql)\n",
    "#     except:\n",
    "#         print(f\"{sql} failed!\")"
   ]
  },
  {
   "cell_type": "code",
   "execution_count": 98,
   "id": "58676298",
   "metadata": {},
   "outputs": [],
   "source": [
    "conn.rollback()"
   ]
  },
  {
   "attachments": {},
   "cell_type": "markdown",
   "id": "ad7ded1d",
   "metadata": {},
   "source": [
    "<!-- Short Questions -->"
   ]
  },
  {
   "cell_type": "code",
   "execution_count": null,
   "id": "41328be2",
   "metadata": {},
   "outputs": [],
   "source": [
    "conn.commit()"
   ]
  }
 ],
 "metadata": {
  "kernelspec": {
   "display_name": "Python 3",
   "language": "python",
   "name": "python3"
  },
  "language_info": {
   "codemirror_mode": {
    "name": "ipython",
    "version": 3
   },
   "file_extension": ".py",
   "mimetype": "text/x-python",
   "name": "python",
   "nbconvert_exporter": "python",
   "pygments_lexer": "ipython3",
   "version": "3.8.5"
  }
 },
 "nbformat": 4,
 "nbformat_minor": 5
}
